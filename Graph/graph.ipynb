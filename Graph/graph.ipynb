{
 "cells": [
  {
   "cell_type": "markdown",
   "metadata": {},
   "source": [
    "## Plotting Fuzzy Graph in Python"
   ]
  },
  {
   "cell_type": "code",
   "execution_count": 1,
   "metadata": {},
   "outputs": [],
   "source": [
    "import simpful as sf"
   ]
  },
  {
   "cell_type": "code",
   "execution_count": 61,
   "metadata": {},
   "outputs": [
    {
     "name": "stdout",
     "output_type": "stream",
     "text": [
      "  ____  __  _  _  ____  ____  _  _  __   \n",
      " / ___)(  )( \\/ )(  _ \\(  __)/ )( \\(  ) v2.5.0 \n",
      " \\___ \\ )( / \\/ \\ ) __/ ) _) ) \\/ (/ (_/\\ \n",
      " (____/(__)\\_)(_/(__)  (__)  \\____/\\____/\n",
      "\n",
      " Created by Marco S. Nobile (m.s.nobile@tue.nl)\n",
      " and Simone Spolaor (simone.spolaor@unimib.it)\n",
      "\n"
     ]
    },
    {
     "data": {
      "image/png": "[encoded data removed]",
      "text/plain": [
       "<Figure size 432x288 with 1 Axes>"
      ]
     },
     "metadata": {
      "needs_background": "light"
     },
     "output_type": "display_data"
    }
   ],
   "source": [
    "FS = sf.FuzzySystem()\n",
    "\n",
    "# line_one = sf.TriangleFuzzySet(a=20, b=20, c=30, term=\"short\")\n",
    "line_one    = sf.TrapezoidFuzzySet(a=300, b=300, c=500, d=1300, term=\"casual\")\n",
    "line_two    = sf.TriangleFuzzySet(a=1000, b=1400, c=1800, term=\"low\")\n",
    "line_three  = sf.TriangleFuzzySet(a=1500, b=1900, c=2300, term=\"moderate\")\n",
    "line_four  = sf.TriangleFuzzySet(a=2000, b=2400, c=2800, term=\"high\")\n",
    "line_five   = sf.TrapezoidFuzzySet(a=2500, b=2900, c=2900, d=2900, term=\"bulking\")\n",
    "\n",
    "sf.LinguisticVariable([\n",
    "    # line_one,     # Tambah dekat sini boss\n",
    "    # line_two,\n",
    "    # line_three,\n",
    "    # line_four,\n",
    "    line_five\n",
    "], universe_of_discourse=[300,3300]).plot()"
   ]
  },
  {
   "cell_type": "code",
   "execution_count": null,
   "metadata": {},
   "outputs": [],
   "source": [
    "# Baru tahu changes in image won't affect git lol. "
   ]
  },
  {
   "cell_type": "code",
   "execution_count": 70,
   "metadata": {},
   "outputs": [],
   "source": [
    "def calc_straight_line(x1, x2, y1, y2):\n",
    "\n",
    "    gradient = (y1 - y2) / (x1 - x2)\n",
    "    y_intercept = y1 - (gradient * x1)\n",
    "\n",
    "    print('y =', gradient,'x', y_intercept)\n"
   ]
  },
  {
   "cell_type": "code",
   "execution_count": 72,
   "metadata": {},
   "outputs": [
    {
     "name": "stdout",
     "output_type": "stream",
     "text": [
      "y = 0.0025 x -6.25\n"
     ]
    }
   ],
   "source": [
    "calc_straight_line(2500, 2900, 0, 1)"
   ]
  },
  {
   "cell_type": "code",
   "execution_count": null,
   "metadata": {},
   "outputs": [],
   "source": []
  }
 ],
 "metadata": {
  "interpreter": {
   "hash": "f061cc7ac73d0c3a0547232dedc70a315866e232463552a237d6390eda146b86"
  },
  "kernelspec": {
   "display_name": "Python 3.8.12 64-bit ('experimental': conda)",
   "name": "python3"
  },
  "language_info": {
   "codemirror_mode": {
    "name": "ipython",
    "version": 3
   },
   "file_extension": ".py",
   "mimetype": "text/x-python",
   "name": "python",
   "nbconvert_exporter": "python",
   "pygments_lexer": "ipython3",
   "version": "3.8.12"
  },
  "orig_nbformat": 4
 },
 "nbformat": 4,
 "nbformat_minor": 2
}
